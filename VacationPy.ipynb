{
 "cells": [
  {
   "cell_type": "code",
   "execution_count": 2,
   "metadata": {
    "pycharm": {
     "name": "#%%\n"
    }
   },
   "outputs": [],
   "source": [
    "#import dependencies\n",
    "import pandas as pd\n",
    "import gmaps\n",
    "import requests\n",
    "#import the api key\n",
    "from config import g_key"
   ]
  },
  {
   "cell_type": "code",
   "execution_count": 3,
   "metadata": {
    "pycharm": {
     "name": "#%%\n"
    }
   },
   "outputs": [
    {
     "data": {
      "text/html": [
       "<div>\n",
       "<style scoped>\n",
       "    .dataframe tbody tr th:only-of-type {\n",
       "        vertical-align: middle;\n",
       "    }\n",
       "\n",
       "    .dataframe tbody tr th {\n",
       "        vertical-align: top;\n",
       "    }\n",
       "\n",
       "    .dataframe thead th {\n",
       "        text-align: right;\n",
       "    }\n",
       "</style>\n",
       "<table border=\"1\" class=\"dataframe\">\n",
       "  <thead>\n",
       "    <tr style=\"text-align: right;\">\n",
       "      <th></th>\n",
       "      <th>City_ID</th>\n",
       "      <th>City</th>\n",
       "      <th>Country</th>\n",
       "      <th>Date</th>\n",
       "      <th>Lat</th>\n",
       "      <th>Lng</th>\n",
       "      <th>Max Temp</th>\n",
       "      <th>Humidity</th>\n",
       "      <th>Cloudiness</th>\n",
       "      <th>Wind Speed</th>\n",
       "    </tr>\n",
       "  </thead>\n",
       "  <tbody>\n",
       "    <tr>\n",
       "      <th>0</th>\n",
       "      <td>0</td>\n",
       "      <td>Nouakchott</td>\n",
       "      <td>MR</td>\n",
       "      <td>2022-06-12 12:22:53</td>\n",
       "      <td>18.0858</td>\n",
       "      <td>-15.9785</td>\n",
       "      <td>98.53</td>\n",
       "      <td>34</td>\n",
       "      <td>43</td>\n",
       "      <td>10.09</td>\n",
       "    </tr>\n",
       "    <tr>\n",
       "      <th>1</th>\n",
       "      <td>1</td>\n",
       "      <td>Bud</td>\n",
       "      <td>US</td>\n",
       "      <td>2022-06-12 12:22:53</td>\n",
       "      <td>39.4470</td>\n",
       "      <td>-86.1758</td>\n",
       "      <td>69.82</td>\n",
       "      <td>97</td>\n",
       "      <td>57</td>\n",
       "      <td>5.99</td>\n",
       "    </tr>\n",
       "    <tr>\n",
       "      <th>2</th>\n",
       "      <td>2</td>\n",
       "      <td>Borogontsy</td>\n",
       "      <td>RU</td>\n",
       "      <td>2022-06-12 12:22:53</td>\n",
       "      <td>62.6683</td>\n",
       "      <td>131.1683</td>\n",
       "      <td>54.14</td>\n",
       "      <td>97</td>\n",
       "      <td>100</td>\n",
       "      <td>5.88</td>\n",
       "    </tr>\n",
       "    <tr>\n",
       "      <th>3</th>\n",
       "      <td>3</td>\n",
       "      <td>Rikitea</td>\n",
       "      <td>PF</td>\n",
       "      <td>2022-06-12 12:22:54</td>\n",
       "      <td>-23.1203</td>\n",
       "      <td>-134.9692</td>\n",
       "      <td>73.06</td>\n",
       "      <td>63</td>\n",
       "      <td>44</td>\n",
       "      <td>11.18</td>\n",
       "    </tr>\n",
       "    <tr>\n",
       "      <th>4</th>\n",
       "      <td>4</td>\n",
       "      <td>Punta Arenas</td>\n",
       "      <td>CL</td>\n",
       "      <td>2022-06-12 12:22:54</td>\n",
       "      <td>-53.1500</td>\n",
       "      <td>-70.9167</td>\n",
       "      <td>48.31</td>\n",
       "      <td>81</td>\n",
       "      <td>75</td>\n",
       "      <td>11.50</td>\n",
       "    </tr>\n",
       "  </tbody>\n",
       "</table>\n",
       "</div>"
      ],
      "text/plain": [
       "   City_ID          City Country                 Date      Lat       Lng  \\\n",
       "0        0    Nouakchott      MR  2022-06-12 12:22:53  18.0858  -15.9785   \n",
       "1        1           Bud      US  2022-06-12 12:22:53  39.4470  -86.1758   \n",
       "2        2    Borogontsy      RU  2022-06-12 12:22:53  62.6683  131.1683   \n",
       "3        3       Rikitea      PF  2022-06-12 12:22:54 -23.1203 -134.9692   \n",
       "4        4  Punta Arenas      CL  2022-06-12 12:22:54 -53.1500  -70.9167   \n",
       "\n",
       "   Max Temp  Humidity  Cloudiness  Wind Speed  \n",
       "0     98.53        34          43       10.09  \n",
       "1     69.82        97          57        5.99  \n",
       "2     54.14        97         100        5.88  \n",
       "3     73.06        63          44       11.18  \n",
       "4     48.31        81          75       11.50  "
      ]
     },
     "execution_count": 3,
     "metadata": {},
     "output_type": "execute_result"
    }
   ],
   "source": [
    "# store csv you created in part one into a df\n",
    "city_data_df = pd.read_csv('weather_data/cities.csv')\n",
    "city_data_df.head()"
   ]
  },
  {
   "cell_type": "code",
   "execution_count": 4,
   "metadata": {
    "pycharm": {
     "name": "#%%\n"
    }
   },
   "outputs": [
    {
     "data": {
      "text/plain": [
       "City_ID         int64\n",
       "City           object\n",
       "Country        object\n",
       "Date           object\n",
       "Lat           float64\n",
       "Lng           float64\n",
       "Max Temp      float64\n",
       "Humidity        int64\n",
       "Cloudiness      int64\n",
       "Wind Speed    float64\n",
       "dtype: object"
      ]
     },
     "execution_count": 4,
     "metadata": {},
     "output_type": "execute_result"
    }
   ],
   "source": [
    "# get data types\n",
    "city_data_df.dtypes"
   ]
  },
  {
   "cell_type": "code",
   "execution_count": 5,
   "metadata": {
    "pycharm": {
     "name": "#%%\n"
    }
   },
   "outputs": [],
   "source": [
    "# Configure gmaps to use your Google API key.\n",
    "gmaps.configure(api_key=g_key)"
   ]
  },
  {
   "cell_type": "code",
   "execution_count": 6,
   "metadata": {
    "pycharm": {
     "name": "#%%\n"
    }
   },
   "outputs": [
    {
     "data": {
      "application/vnd.jupyter.widget-view+json": {
       "model_id": "6381cb71d658416da492e540b492196e",
       "version_major": 2,
       "version_minor": 0
      },
      "text/plain": [
       "Figure(layout=FigureLayout(height='420px'))"
      ]
     },
     "metadata": {},
     "output_type": "display_data"
    }
   ],
   "source": [
    "#heatmap of temps from google\n",
    "#get lat/long pairs\n",
    "locations =  city_data_df[['Lat', 'Lng']]\n",
    "\n",
    "# get max temps\n",
    "max_temp = city_data_df['Max Temp']\n",
    "\n",
    "#assign figure var\n",
    "#fig = gmaps.figure()\n",
    "fig = gmaps.figure(center=(30.0, 31.0), zoom_level=1.5)\n",
    "\n",
    "#assign the heatmap var\n",
    "heat_layer = gmaps.heatmap_layer(locations, weights=[max(temp, 0) for temp in max_temp], dissipating=False, max_intensity=300, point_radius=4)\n",
    "\n",
    "#add the heatmap layer\n",
    "fig.add_layer(heat_layer)\n",
    "\n",
    "#call fig to plot the data\n",
    "fig"
   ]
  },
  {
   "cell_type": "code",
   "execution_count": 7,
   "metadata": {
    "pycharm": {
     "name": "#%%\n"
    }
   },
   "outputs": [
    {
     "data": {
      "application/vnd.jupyter.widget-view+json": {
       "model_id": "2b1a72648aba4b978659e62414a767bd",
       "version_major": 2,
       "version_minor": 0
      },
      "text/plain": [
       "Figure(layout=FigureLayout(height='420px'))"
      ]
     },
     "metadata": {},
     "output_type": "display_data"
    }
   ],
   "source": [
    "# Heatmap of percent humidity\n",
    "locations = city_data_df[[\"Lat\", \"Lng\"]]\n",
    "humidity = city_data_df[\"Humidity\"]\n",
    "fig = gmaps.figure(center=(30.0, 31.0), zoom_level=1.5)\n",
    "heat_layer = gmaps.heatmap_layer(locations, weights=humidity, dissipating=False, max_intensity=300, point_radius=4)\n",
    "\n",
    "fig.add_layer(heat_layer)\n",
    "# Call the figure to plot the data.\n",
    "fig"
   ]
  },
  {
   "cell_type": "code",
   "execution_count": 8,
   "metadata": {
    "pycharm": {
     "name": "#%%\n"
    }
   },
   "outputs": [
    {
     "data": {
      "application/vnd.jupyter.widget-view+json": {
       "model_id": "374109ac5a53438096f488e27d370919",
       "version_major": 2,
       "version_minor": 0
      },
      "text/plain": [
       "Figure(layout=FigureLayout(height='420px'))"
      ]
     },
     "metadata": {},
     "output_type": "display_data"
    }
   ],
   "source": [
    "# Heatmap of percent cloudiness\n",
    "locations = city_data_df[[\"Lat\", \"Lng\"]]\n",
    "clouds = city_data_df[\"Cloudiness\"]\n",
    "fig = gmaps.figure(center=(30.0, 31.0), zoom_level=1.5)\n",
    "heat_layer = gmaps.heatmap_layer(locations, weights=clouds, dissipating=False, max_intensity=300, point_radius=4)\n",
    "\n",
    "fig.add_layer(heat_layer)\n",
    "# Call the figure to plot the data.\n",
    "fig"
   ]
  },
  {
   "cell_type": "code",
   "execution_count": 9,
   "metadata": {
    "pycharm": {
     "name": "#%%\n"
    }
   },
   "outputs": [
    {
     "data": {
      "application/vnd.jupyter.widget-view+json": {
       "model_id": "00c40d5417eb462e882f49f7464e7eff",
       "version_major": 2,
       "version_minor": 0
      },
      "text/plain": [
       "Figure(layout=FigureLayout(height='420px'))"
      ]
     },
     "metadata": {},
     "output_type": "display_data"
    }
   ],
   "source": [
    "# Heatmap of wind speed\n",
    "locations = city_data_df[[\"Lat\", \"Lng\"]]\n",
    "wind = city_data_df[\"Wind Speed\"]\n",
    "fig = gmaps.figure(center=(30.0, 31.0), zoom_level=1.5)\n",
    "heat_layer = gmaps.heatmap_layer(locations, weights=wind, dissipating=False, max_intensity=300, point_radius=4)\n",
    "\n",
    "fig.add_layer(heat_layer)\n",
    "# Call the figure to plot the data.\n",
    "fig"
   ]
  },
  {
   "cell_type": "code",
   "execution_count": 10,
   "metadata": {
    "pycharm": {
     "name": "#%%\n"
    }
   },
   "outputs": [
    {
     "name": "stdout",
     "output_type": "stream",
     "text": [
      "What is the minimum temperature you would like for your trip? 75\n",
      "What is the maximum temperature you would like for your trip? 90\n"
     ]
    }
   ],
   "source": [
    "# Ask the customer to add a minimum and maximum temperature value.75/90\n",
    "min_temp = float(input(\"What is the minimum temperature you would like for your trip? \"))\n",
    "max_temp = float(input(\"What is the maximum temperature you would like for your trip? \"))"
   ]
  },
  {
   "cell_type": "code",
   "execution_count": 11,
   "metadata": {
    "pycharm": {
     "name": "#%%\n"
    }
   },
   "outputs": [
    {
     "data": {
      "text/html": [
       "<div>\n",
       "<style scoped>\n",
       "    .dataframe tbody tr th:only-of-type {\n",
       "        vertical-align: middle;\n",
       "    }\n",
       "\n",
       "    .dataframe tbody tr th {\n",
       "        vertical-align: top;\n",
       "    }\n",
       "\n",
       "    .dataframe thead th {\n",
       "        text-align: right;\n",
       "    }\n",
       "</style>\n",
       "<table border=\"1\" class=\"dataframe\">\n",
       "  <thead>\n",
       "    <tr style=\"text-align: right;\">\n",
       "      <th></th>\n",
       "      <th>City_ID</th>\n",
       "      <th>City</th>\n",
       "      <th>Country</th>\n",
       "      <th>Date</th>\n",
       "      <th>Lat</th>\n",
       "      <th>Lng</th>\n",
       "      <th>Max Temp</th>\n",
       "      <th>Humidity</th>\n",
       "      <th>Cloudiness</th>\n",
       "      <th>Wind Speed</th>\n",
       "    </tr>\n",
       "  </thead>\n",
       "  <tbody>\n",
       "    <tr>\n",
       "      <th>5</th>\n",
       "      <td>5</td>\n",
       "      <td>Kapaa</td>\n",
       "      <td>US</td>\n",
       "      <td>2022-06-12 12:22:54</td>\n",
       "      <td>22.0752</td>\n",
       "      <td>-159.3190</td>\n",
       "      <td>76.12</td>\n",
       "      <td>86</td>\n",
       "      <td>40</td>\n",
       "      <td>20.71</td>\n",
       "    </tr>\n",
       "    <tr>\n",
       "      <th>6</th>\n",
       "      <td>6</td>\n",
       "      <td>Banswada</td>\n",
       "      <td>IN</td>\n",
       "      <td>2022-06-12 12:22:55</td>\n",
       "      <td>18.3833</td>\n",
       "      <td>77.8833</td>\n",
       "      <td>87.48</td>\n",
       "      <td>51</td>\n",
       "      <td>99</td>\n",
       "      <td>5.66</td>\n",
       "    </tr>\n",
       "    <tr>\n",
       "      <th>8</th>\n",
       "      <td>8</td>\n",
       "      <td>Itacarambi</td>\n",
       "      <td>BR</td>\n",
       "      <td>2022-06-12 12:22:55</td>\n",
       "      <td>-15.1022</td>\n",
       "      <td>-44.0919</td>\n",
       "      <td>78.44</td>\n",
       "      <td>36</td>\n",
       "      <td>90</td>\n",
       "      <td>2.68</td>\n",
       "    </tr>\n",
       "    <tr>\n",
       "      <th>9</th>\n",
       "      <td>9</td>\n",
       "      <td>Cabo San Lucas</td>\n",
       "      <td>MX</td>\n",
       "      <td>2022-06-12 12:22:11</td>\n",
       "      <td>22.8909</td>\n",
       "      <td>-109.9124</td>\n",
       "      <td>79.90</td>\n",
       "      <td>71</td>\n",
       "      <td>6</td>\n",
       "      <td>12.03</td>\n",
       "    </tr>\n",
       "    <tr>\n",
       "      <th>12</th>\n",
       "      <td>12</td>\n",
       "      <td>Komsomolskiy</td>\n",
       "      <td>UZ</td>\n",
       "      <td>2022-06-12 12:18:22</td>\n",
       "      <td>40.4272</td>\n",
       "      <td>71.7189</td>\n",
       "      <td>86.72</td>\n",
       "      <td>28</td>\n",
       "      <td>71</td>\n",
       "      <td>13.80</td>\n",
       "    </tr>\n",
       "    <tr>\n",
       "      <th>16</th>\n",
       "      <td>16</td>\n",
       "      <td>Bredasdorp</td>\n",
       "      <td>ZA</td>\n",
       "      <td>2022-06-12 12:22:58</td>\n",
       "      <td>-34.5322</td>\n",
       "      <td>20.0403</td>\n",
       "      <td>77.23</td>\n",
       "      <td>21</td>\n",
       "      <td>100</td>\n",
       "      <td>9.46</td>\n",
       "    </tr>\n",
       "    <tr>\n",
       "      <th>17</th>\n",
       "      <td>17</td>\n",
       "      <td>Bose</td>\n",
       "      <td>IT</td>\n",
       "      <td>2022-06-12 12:22:58</td>\n",
       "      <td>45.4612</td>\n",
       "      <td>8.0137</td>\n",
       "      <td>85.06</td>\n",
       "      <td>45</td>\n",
       "      <td>22</td>\n",
       "      <td>5.12</td>\n",
       "    </tr>\n",
       "    <tr>\n",
       "      <th>18</th>\n",
       "      <td>18</td>\n",
       "      <td>Belmonte</td>\n",
       "      <td>BR</td>\n",
       "      <td>2022-06-12 12:22:58</td>\n",
       "      <td>-15.8631</td>\n",
       "      <td>-38.8828</td>\n",
       "      <td>76.39</td>\n",
       "      <td>76</td>\n",
       "      <td>96</td>\n",
       "      <td>1.90</td>\n",
       "    </tr>\n",
       "    <tr>\n",
       "      <th>21</th>\n",
       "      <td>21</td>\n",
       "      <td>Chiredzi</td>\n",
       "      <td>ZW</td>\n",
       "      <td>2022-06-12 12:22:59</td>\n",
       "      <td>-21.0500</td>\n",
       "      <td>31.6667</td>\n",
       "      <td>75.85</td>\n",
       "      <td>31</td>\n",
       "      <td>0</td>\n",
       "      <td>2.93</td>\n",
       "    </tr>\n",
       "    <tr>\n",
       "      <th>22</th>\n",
       "      <td>22</td>\n",
       "      <td>Alofi</td>\n",
       "      <td>NU</td>\n",
       "      <td>2022-06-12 12:23:00</td>\n",
       "      <td>-19.0595</td>\n",
       "      <td>-169.9187</td>\n",
       "      <td>75.09</td>\n",
       "      <td>94</td>\n",
       "      <td>58</td>\n",
       "      <td>1.14</td>\n",
       "    </tr>\n",
       "  </tbody>\n",
       "</table>\n",
       "</div>"
      ],
      "text/plain": [
       "    City_ID            City Country                 Date      Lat       Lng  \\\n",
       "5         5           Kapaa      US  2022-06-12 12:22:54  22.0752 -159.3190   \n",
       "6         6        Banswada      IN  2022-06-12 12:22:55  18.3833   77.8833   \n",
       "8         8      Itacarambi      BR  2022-06-12 12:22:55 -15.1022  -44.0919   \n",
       "9         9  Cabo San Lucas      MX  2022-06-12 12:22:11  22.8909 -109.9124   \n",
       "12       12    Komsomolskiy      UZ  2022-06-12 12:18:22  40.4272   71.7189   \n",
       "16       16      Bredasdorp      ZA  2022-06-12 12:22:58 -34.5322   20.0403   \n",
       "17       17            Bose      IT  2022-06-12 12:22:58  45.4612    8.0137   \n",
       "18       18        Belmonte      BR  2022-06-12 12:22:58 -15.8631  -38.8828   \n",
       "21       21        Chiredzi      ZW  2022-06-12 12:22:59 -21.0500   31.6667   \n",
       "22       22           Alofi      NU  2022-06-12 12:23:00 -19.0595 -169.9187   \n",
       "\n",
       "    Max Temp  Humidity  Cloudiness  Wind Speed  \n",
       "5      76.12        86          40       20.71  \n",
       "6      87.48        51          99        5.66  \n",
       "8      78.44        36          90        2.68  \n",
       "9      79.90        71           6       12.03  \n",
       "12     86.72        28          71       13.80  \n",
       "16     77.23        21         100        9.46  \n",
       "17     85.06        45          22        5.12  \n",
       "18     76.39        76          96        1.90  \n",
       "21     75.85        31           0        2.93  \n",
       "22     75.09        94          58        1.14  "
      ]
     },
     "execution_count": 11,
     "metadata": {},
     "output_type": "execute_result"
    }
   ],
   "source": [
    "#filter dataset to find cities that meet temp criteria\n",
    "preferred_cities_df = city_data_df.loc[(city_data_df['Max Temp']<=max_temp)&\\\n",
    "                                    (city_data_df['Max Temp']>=min_temp)]\n",
    "preferred_cities_df.head(10)"
   ]
  },
  {
   "cell_type": "code",
   "execution_count": 12,
   "metadata": {
    "pycharm": {
     "name": "#%%\n"
    }
   },
   "outputs": [
    {
     "data": {
      "text/plain": [
       "City_ID       206\n",
       "City          206\n",
       "Country       205\n",
       "Date          206\n",
       "Lat           206\n",
       "Lng           206\n",
       "Max Temp      206\n",
       "Humidity      206\n",
       "Cloudiness    206\n",
       "Wind Speed    206\n",
       "dtype: int64"
      ]
     },
     "execution_count": 12,
     "metadata": {},
     "output_type": "execute_result"
    }
   ],
   "source": [
    "preferred_cities_df.notnull().sum()"
   ]
  },
  {
   "cell_type": "code",
   "execution_count": 13,
   "metadata": {
    "pycharm": {
     "name": "#%%\n"
    }
   },
   "outputs": [],
   "source": [
    "preferred_cities_df = preferred_cities_df.dropna().head(195)"
   ]
  },
  {
   "cell_type": "code",
   "execution_count": 14,
   "metadata": {
    "pycharm": {
     "name": "#%%\n"
    }
   },
   "outputs": [
    {
     "data": {
      "text/html": [
       "<div>\n",
       "<style scoped>\n",
       "    .dataframe tbody tr th:only-of-type {\n",
       "        vertical-align: middle;\n",
       "    }\n",
       "\n",
       "    .dataframe tbody tr th {\n",
       "        vertical-align: top;\n",
       "    }\n",
       "\n",
       "    .dataframe thead th {\n",
       "        text-align: right;\n",
       "    }\n",
       "</style>\n",
       "<table border=\"1\" class=\"dataframe\">\n",
       "  <thead>\n",
       "    <tr style=\"text-align: right;\">\n",
       "      <th></th>\n",
       "      <th>City</th>\n",
       "      <th>Country</th>\n",
       "      <th>Max Temp</th>\n",
       "      <th>Lat</th>\n",
       "      <th>Lng</th>\n",
       "      <th>Hote Name</th>\n",
       "    </tr>\n",
       "  </thead>\n",
       "  <tbody>\n",
       "    <tr>\n",
       "      <th>5</th>\n",
       "      <td>Kapaa</td>\n",
       "      <td>US</td>\n",
       "      <td>76.12</td>\n",
       "      <td>22.0752</td>\n",
       "      <td>-159.3190</td>\n",
       "      <td></td>\n",
       "    </tr>\n",
       "    <tr>\n",
       "      <th>6</th>\n",
       "      <td>Banswada</td>\n",
       "      <td>IN</td>\n",
       "      <td>87.48</td>\n",
       "      <td>18.3833</td>\n",
       "      <td>77.8833</td>\n",
       "      <td></td>\n",
       "    </tr>\n",
       "    <tr>\n",
       "      <th>8</th>\n",
       "      <td>Itacarambi</td>\n",
       "      <td>BR</td>\n",
       "      <td>78.44</td>\n",
       "      <td>-15.1022</td>\n",
       "      <td>-44.0919</td>\n",
       "      <td></td>\n",
       "    </tr>\n",
       "    <tr>\n",
       "      <th>9</th>\n",
       "      <td>Cabo San Lucas</td>\n",
       "      <td>MX</td>\n",
       "      <td>79.90</td>\n",
       "      <td>22.8909</td>\n",
       "      <td>-109.9124</td>\n",
       "      <td></td>\n",
       "    </tr>\n",
       "    <tr>\n",
       "      <th>12</th>\n",
       "      <td>Komsomolskiy</td>\n",
       "      <td>UZ</td>\n",
       "      <td>86.72</td>\n",
       "      <td>40.4272</td>\n",
       "      <td>71.7189</td>\n",
       "      <td></td>\n",
       "    </tr>\n",
       "    <tr>\n",
       "      <th>16</th>\n",
       "      <td>Bredasdorp</td>\n",
       "      <td>ZA</td>\n",
       "      <td>77.23</td>\n",
       "      <td>-34.5322</td>\n",
       "      <td>20.0403</td>\n",
       "      <td></td>\n",
       "    </tr>\n",
       "    <tr>\n",
       "      <th>17</th>\n",
       "      <td>Bose</td>\n",
       "      <td>IT</td>\n",
       "      <td>85.06</td>\n",
       "      <td>45.4612</td>\n",
       "      <td>8.0137</td>\n",
       "      <td></td>\n",
       "    </tr>\n",
       "    <tr>\n",
       "      <th>18</th>\n",
       "      <td>Belmonte</td>\n",
       "      <td>BR</td>\n",
       "      <td>76.39</td>\n",
       "      <td>-15.8631</td>\n",
       "      <td>-38.8828</td>\n",
       "      <td></td>\n",
       "    </tr>\n",
       "    <tr>\n",
       "      <th>21</th>\n",
       "      <td>Chiredzi</td>\n",
       "      <td>ZW</td>\n",
       "      <td>75.85</td>\n",
       "      <td>-21.0500</td>\n",
       "      <td>31.6667</td>\n",
       "      <td></td>\n",
       "    </tr>\n",
       "    <tr>\n",
       "      <th>22</th>\n",
       "      <td>Alofi</td>\n",
       "      <td>NU</td>\n",
       "      <td>75.09</td>\n",
       "      <td>-19.0595</td>\n",
       "      <td>-169.9187</td>\n",
       "      <td></td>\n",
       "    </tr>\n",
       "  </tbody>\n",
       "</table>\n",
       "</div>"
      ],
      "text/plain": [
       "              City Country  Max Temp      Lat       Lng Hote Name\n",
       "5            Kapaa      US     76.12  22.0752 -159.3190          \n",
       "6         Banswada      IN     87.48  18.3833   77.8833          \n",
       "8       Itacarambi      BR     78.44 -15.1022  -44.0919          \n",
       "9   Cabo San Lucas      MX     79.90  22.8909 -109.9124          \n",
       "12    Komsomolskiy      UZ     86.72  40.4272   71.7189          \n",
       "16      Bredasdorp      ZA     77.23 -34.5322   20.0403          \n",
       "17            Bose      IT     85.06  45.4612    8.0137          \n",
       "18        Belmonte      BR     76.39 -15.8631  -38.8828          \n",
       "21        Chiredzi      ZW     75.85 -21.0500   31.6667          \n",
       "22           Alofi      NU     75.09 -19.0595 -169.9187          "
      ]
     },
     "execution_count": 14,
     "metadata": {},
     "output_type": "execute_result"
    }
   ],
   "source": [
    "#create df called hotel_df to store hotel names with city,country,max temp, and coordinates\n",
    "hotel_df = preferred_cities_df[['City','Country','Max Temp','Lat','Lng']].copy()\n",
    "hotel_df['Hote Name']=''\n",
    "hotel_df.head(10)"
   ]
  },
  {
   "cell_type": "code",
   "execution_count": 15,
   "metadata": {
    "pycharm": {
     "name": "#%%\n"
    }
   },
   "outputs": [],
   "source": [
    "#set params to search for a hotel\n",
    "url = r'https://maps.googleapis.com/maps/api/place/nearbysearch/output?parameters'\n",
    "params = {\n",
    "    \"radius\": 5000,\n",
    "    \"type\": \"lodging\",\n",
    "    \"key\": g_key\n",
    "}"
   ]
  },
  {
   "cell_type": "code",
   "execution_count": 16,
   "metadata": {
    "pycharm": {
     "name": "#%%\n"
    }
   },
   "outputs": [],
   "source": [
    "preferred_cities_df = preferred_cities_df.dropna().head(195)"
   ]
  },
  {
   "cell_type": "code",
   "execution_count": 17,
   "metadata": {
    "pycharm": {
     "name": "#%%\n"
    }
   },
   "outputs": [
    {
     "data": {
      "text/html": [
       "<div>\n",
       "<style scoped>\n",
       "    .dataframe tbody tr th:only-of-type {\n",
       "        vertical-align: middle;\n",
       "    }\n",
       "\n",
       "    .dataframe tbody tr th {\n",
       "        vertical-align: top;\n",
       "    }\n",
       "\n",
       "    .dataframe thead th {\n",
       "        text-align: right;\n",
       "    }\n",
       "</style>\n",
       "<table border=\"1\" class=\"dataframe\">\n",
       "  <thead>\n",
       "    <tr style=\"text-align: right;\">\n",
       "      <th></th>\n",
       "      <th>City</th>\n",
       "      <th>Country</th>\n",
       "      <th>Max Temp</th>\n",
       "      <th>Lat</th>\n",
       "      <th>Lng</th>\n",
       "      <th>Hote Name</th>\n",
       "    </tr>\n",
       "  </thead>\n",
       "  <tbody>\n",
       "    <tr>\n",
       "      <th>5</th>\n",
       "      <td>Kapaa</td>\n",
       "      <td>US</td>\n",
       "      <td>76.12</td>\n",
       "      <td>22.0752</td>\n",
       "      <td>-159.3190</td>\n",
       "      <td></td>\n",
       "    </tr>\n",
       "    <tr>\n",
       "      <th>6</th>\n",
       "      <td>Banswada</td>\n",
       "      <td>IN</td>\n",
       "      <td>87.48</td>\n",
       "      <td>18.3833</td>\n",
       "      <td>77.8833</td>\n",
       "      <td></td>\n",
       "    </tr>\n",
       "    <tr>\n",
       "      <th>8</th>\n",
       "      <td>Itacarambi</td>\n",
       "      <td>BR</td>\n",
       "      <td>78.44</td>\n",
       "      <td>-15.1022</td>\n",
       "      <td>-44.0919</td>\n",
       "      <td></td>\n",
       "    </tr>\n",
       "    <tr>\n",
       "      <th>9</th>\n",
       "      <td>Cabo San Lucas</td>\n",
       "      <td>MX</td>\n",
       "      <td>79.90</td>\n",
       "      <td>22.8909</td>\n",
       "      <td>-109.9124</td>\n",
       "      <td></td>\n",
       "    </tr>\n",
       "    <tr>\n",
       "      <th>12</th>\n",
       "      <td>Komsomolskiy</td>\n",
       "      <td>UZ</td>\n",
       "      <td>86.72</td>\n",
       "      <td>40.4272</td>\n",
       "      <td>71.7189</td>\n",
       "      <td></td>\n",
       "    </tr>\n",
       "    <tr>\n",
       "      <th>16</th>\n",
       "      <td>Bredasdorp</td>\n",
       "      <td>ZA</td>\n",
       "      <td>77.23</td>\n",
       "      <td>-34.5322</td>\n",
       "      <td>20.0403</td>\n",
       "      <td></td>\n",
       "    </tr>\n",
       "    <tr>\n",
       "      <th>17</th>\n",
       "      <td>Bose</td>\n",
       "      <td>IT</td>\n",
       "      <td>85.06</td>\n",
       "      <td>45.4612</td>\n",
       "      <td>8.0137</td>\n",
       "      <td></td>\n",
       "    </tr>\n",
       "    <tr>\n",
       "      <th>18</th>\n",
       "      <td>Belmonte</td>\n",
       "      <td>BR</td>\n",
       "      <td>76.39</td>\n",
       "      <td>-15.8631</td>\n",
       "      <td>-38.8828</td>\n",
       "      <td></td>\n",
       "    </tr>\n",
       "    <tr>\n",
       "      <th>21</th>\n",
       "      <td>Chiredzi</td>\n",
       "      <td>ZW</td>\n",
       "      <td>75.85</td>\n",
       "      <td>-21.0500</td>\n",
       "      <td>31.6667</td>\n",
       "      <td></td>\n",
       "    </tr>\n",
       "    <tr>\n",
       "      <th>22</th>\n",
       "      <td>Alofi</td>\n",
       "      <td>NU</td>\n",
       "      <td>75.09</td>\n",
       "      <td>-19.0595</td>\n",
       "      <td>-169.9187</td>\n",
       "      <td></td>\n",
       "    </tr>\n",
       "  </tbody>\n",
       "</table>\n",
       "</div>"
      ],
      "text/plain": [
       "              City Country  Max Temp      Lat       Lng Hote Name\n",
       "5            Kapaa      US     76.12  22.0752 -159.3190          \n",
       "6         Banswada      IN     87.48  18.3833   77.8833          \n",
       "8       Itacarambi      BR     78.44 -15.1022  -44.0919          \n",
       "9   Cabo San Lucas      MX     79.90  22.8909 -109.9124          \n",
       "12    Komsomolskiy      UZ     86.72  40.4272   71.7189          \n",
       "16      Bredasdorp      ZA     77.23 -34.5322   20.0403          \n",
       "17            Bose      IT     85.06  45.4612    8.0137          \n",
       "18        Belmonte      BR     76.39 -15.8631  -38.8828          \n",
       "21        Chiredzi      ZW     75.85 -21.0500   31.6667          \n",
       "22           Alofi      NU     75.09 -19.0595 -169.9187          "
      ]
     },
     "execution_count": 17,
     "metadata": {},
     "output_type": "execute_result"
    }
   ],
   "source": [
    "#create df called hotel_df to store hotel names with city,country,max temp, and coordinates\n",
    "hotel_df = preferred_cities_df[['City','Country','Max Temp','Lat','Lng']].copy()\n",
    "hotel_df['Hote Name']=''\n",
    "hotel_df.head(10)"
   ]
  },
  {
   "cell_type": "code",
   "execution_count": 18,
   "metadata": {
    "pycharm": {
     "name": "#%%\n"
    }
   },
   "outputs": [
    {
     "name": "stdout",
     "output_type": "stream",
     "text": [
      "Hotel not found in Olyka....skipping.\n",
      "Hotel not found in Karagaylinskiy....skipping.\n",
      "Hotel not found in Abu Samrah....skipping.\n",
      "Hotel not found in Kodinsk....skipping.\n",
      "Hotel not found in Merauke....skipping.\n",
      "Hotel not found in Poum....skipping.\n",
      "Hotel not found in Sapa....skipping.\n",
      "Hotel not found in Boende....skipping.\n",
      "Hotel not found in Kaa-Khem....skipping.\n",
      "Hotel not found in Sasykoli....skipping.\n",
      "Hotel not found in Pidhorodna....skipping.\n",
      "Hotel not found in Bekhtery....skipping.\n",
      "Hotel not found in Gamba....skipping.\n"
     ]
    }
   ],
   "source": [
    "#set params to search for a hotel\n",
    "\n",
    "params = {\n",
    "    \"radius\": 5000,\n",
    "    \"type\": \"lodging\",\n",
    "    \"key\": g_key\n",
    "}\n",
    "\n",
    "base_url = r'https://maps.googleapis.com/maps/api/place/nearbysearch/json'\n",
    "\n",
    "#iterate through the df\n",
    "\n",
    "for index,row in hotel_df.iterrows():\n",
    "    # get lat/long\n",
    "    lat = row.Lat\n",
    "    lng = row.Lng\n",
    "\n",
    "    #add lat/lon to location key for params dict\n",
    "    params['location'] = f'{lat},{lng}'\n",
    "\n",
    "    # use search term 'lodging' and lat/long\n",
    "    #make request and get json from search\n",
    "    hotels = requests.get(base_url, params=params).json()\n",
    "    # grab first hotel from results and store name\n",
    "    try:\n",
    "        hotel_df.loc[index,'Hotel Name'] = hotels['results'][0]['name']\n",
    "    except (IndexError):\n",
    "        print(f'Hotel not found in {row.City}....skipping.')"
   ]
  },
  {
   "cell_type": "code",
   "execution_count": 19,
   "metadata": {
    "pycharm": {
     "name": "#%%\n"
    }
   },
   "outputs": [
    {
     "data": {
      "text/html": [
       "<div>\n",
       "<style scoped>\n",
       "    .dataframe tbody tr th:only-of-type {\n",
       "        vertical-align: middle;\n",
       "    }\n",
       "\n",
       "    .dataframe tbody tr th {\n",
       "        vertical-align: top;\n",
       "    }\n",
       "\n",
       "    .dataframe thead th {\n",
       "        text-align: right;\n",
       "    }\n",
       "</style>\n",
       "<table border=\"1\" class=\"dataframe\">\n",
       "  <thead>\n",
       "    <tr style=\"text-align: right;\">\n",
       "      <th></th>\n",
       "      <th>City</th>\n",
       "      <th>Country</th>\n",
       "      <th>Max Temp</th>\n",
       "      <th>Lat</th>\n",
       "      <th>Lng</th>\n",
       "      <th>Hote Name</th>\n",
       "      <th>Hotel Name</th>\n",
       "    </tr>\n",
       "  </thead>\n",
       "  <tbody>\n",
       "    <tr>\n",
       "      <th>5</th>\n",
       "      <td>Kapaa</td>\n",
       "      <td>US</td>\n",
       "      <td>76.12</td>\n",
       "      <td>22.0752</td>\n",
       "      <td>-159.3190</td>\n",
       "      <td></td>\n",
       "      <td>Sheraton Kauai Coconut Beach Resort</td>\n",
       "    </tr>\n",
       "    <tr>\n",
       "      <th>6</th>\n",
       "      <td>Banswada</td>\n",
       "      <td>IN</td>\n",
       "      <td>87.48</td>\n",
       "      <td>18.3833</td>\n",
       "      <td>77.8833</td>\n",
       "      <td></td>\n",
       "      <td>KBR</td>\n",
       "    </tr>\n",
       "    <tr>\n",
       "      <th>8</th>\n",
       "      <td>Itacarambi</td>\n",
       "      <td>BR</td>\n",
       "      <td>78.44</td>\n",
       "      <td>-15.1022</td>\n",
       "      <td>-44.0919</td>\n",
       "      <td></td>\n",
       "      <td>POUSADA CAMALEÃO</td>\n",
       "    </tr>\n",
       "    <tr>\n",
       "      <th>9</th>\n",
       "      <td>Cabo San Lucas</td>\n",
       "      <td>MX</td>\n",
       "      <td>79.90</td>\n",
       "      <td>22.8909</td>\n",
       "      <td>-109.9124</td>\n",
       "      <td></td>\n",
       "      <td>Vista Roof Restaurant</td>\n",
       "    </tr>\n",
       "    <tr>\n",
       "      <th>12</th>\n",
       "      <td>Komsomolskiy</td>\n",
       "      <td>UZ</td>\n",
       "      <td>86.72</td>\n",
       "      <td>40.4272</td>\n",
       "      <td>71.7189</td>\n",
       "      <td></td>\n",
       "      <td>Ikathouse</td>\n",
       "    </tr>\n",
       "    <tr>\n",
       "      <th>16</th>\n",
       "      <td>Bredasdorp</td>\n",
       "      <td>ZA</td>\n",
       "      <td>77.23</td>\n",
       "      <td>-34.5322</td>\n",
       "      <td>20.0403</td>\n",
       "      <td></td>\n",
       "      <td>Bredasdorp Country Manor</td>\n",
       "    </tr>\n",
       "    <tr>\n",
       "      <th>17</th>\n",
       "      <td>Bose</td>\n",
       "      <td>IT</td>\n",
       "      <td>85.06</td>\n",
       "      <td>45.4612</td>\n",
       "      <td>8.0137</td>\n",
       "      <td></td>\n",
       "      <td>Locanda Borgo Antico</td>\n",
       "    </tr>\n",
       "    <tr>\n",
       "      <th>18</th>\n",
       "      <td>Belmonte</td>\n",
       "      <td>BR</td>\n",
       "      <td>76.39</td>\n",
       "      <td>-15.8631</td>\n",
       "      <td>-38.8828</td>\n",
       "      <td></td>\n",
       "      <td>Pousada Monte Carmelo O Pão</td>\n",
       "    </tr>\n",
       "    <tr>\n",
       "      <th>21</th>\n",
       "      <td>Chiredzi</td>\n",
       "      <td>ZW</td>\n",
       "      <td>75.85</td>\n",
       "      <td>-21.0500</td>\n",
       "      <td>31.6667</td>\n",
       "      <td></td>\n",
       "      <td>Clevers Hotel Chiredzi</td>\n",
       "    </tr>\n",
       "    <tr>\n",
       "      <th>22</th>\n",
       "      <td>Alofi</td>\n",
       "      <td>NU</td>\n",
       "      <td>75.09</td>\n",
       "      <td>-19.0595</td>\n",
       "      <td>-169.9187</td>\n",
       "      <td></td>\n",
       "      <td>Taloa Heights</td>\n",
       "    </tr>\n",
       "  </tbody>\n",
       "</table>\n",
       "</div>"
      ],
      "text/plain": [
       "              City Country  Max Temp      Lat       Lng Hote Name  \\\n",
       "5            Kapaa      US     76.12  22.0752 -159.3190             \n",
       "6         Banswada      IN     87.48  18.3833   77.8833             \n",
       "8       Itacarambi      BR     78.44 -15.1022  -44.0919             \n",
       "9   Cabo San Lucas      MX     79.90  22.8909 -109.9124             \n",
       "12    Komsomolskiy      UZ     86.72  40.4272   71.7189             \n",
       "16      Bredasdorp      ZA     77.23 -34.5322   20.0403             \n",
       "17            Bose      IT     85.06  45.4612    8.0137             \n",
       "18        Belmonte      BR     76.39 -15.8631  -38.8828             \n",
       "21        Chiredzi      ZW     75.85 -21.0500   31.6667             \n",
       "22           Alofi      NU     75.09 -19.0595 -169.9187             \n",
       "\n",
       "                             Hotel Name  \n",
       "5   Sheraton Kauai Coconut Beach Resort  \n",
       "6                                   KBR  \n",
       "8                      POUSADA CAMALEÃO  \n",
       "9                 Vista Roof Restaurant  \n",
       "12                            Ikathouse  \n",
       "16             Bredasdorp Country Manor  \n",
       "17                 Locanda Borgo Antico  \n",
       "18          Pousada Monte Carmelo O Pão  \n",
       "21               Clevers Hotel Chiredzi  \n",
       "22                        Taloa Heights  "
      ]
     },
     "execution_count": 19,
     "metadata": {},
     "output_type": "execute_result"
    }
   ],
   "source": [
    "hotel_df.head(10)"
   ]
  },
  {
   "cell_type": "code",
   "execution_count": 25,
   "metadata": {},
   "outputs": [],
   "source": [
    "info_box_template = \"\"\"\n",
    "<dl>\n",
    "<dt>Hotel Name</dt><dd>{Hotel Name}</dd>\n",
    "<dt>City</dt><dd>{City}</dd>\n",
    "<dt>Country</dt><dd>{Country}</dd>\n",
    "<dt>Max Temp</dt><dd>{Max Temp} °F</dd>\n",
    "</dl>\n",
    "\"\"\""
   ]
  },
  {
   "cell_type": "code",
   "execution_count": 26,
   "metadata": {},
   "outputs": [],
   "source": [
    "# Store the DataFrame Row.\n",
    "hotel_info = [info_box_template.format(**row) for index, row in hotel_df.iterrows()]"
   ]
  },
  {
   "cell_type": "code",
   "execution_count": 27,
   "metadata": {
    "pycharm": {
     "name": "#%%\n"
    }
   },
   "outputs": [
    {
     "data": {
      "application/vnd.jupyter.widget-view+json": {
       "model_id": "fe047144d9fe4db690814edfae717e61",
       "version_major": 2,
       "version_minor": 0
      },
      "text/plain": [
       "Figure(layout=FigureLayout(height='420px'))"
      ]
     },
     "metadata": {},
     "output_type": "display_data"
    }
   ],
   "source": [
    "# Add a heatmap of temperature for the vacation spots.\n",
    "locations = hotel_df[[\"Lat\", \"Lng\"]]\n",
    "max_temp = hotel_df[\"Max Temp\"]\n",
    "fig = gmaps.figure(center=(30.0, 31.0), zoom_level=1.5)\n",
    "heat_layer = gmaps.heatmap_layer(locations, weights=max_temp, dissipating=False,\n",
    "             max_intensity=300, point_radius=4)\n",
    "marker_layer = gmaps.marker_layer(locations, info_box_content=hotel_info)\n",
    "\n",
    "fig.add_layer(heat_layer)\n",
    "fig.add_layer(marker_layer)\n",
    "# Call the figure to plot the data.\n",
    "fig"
   ]
  },
  {
   "cell_type": "code",
   "execution_count": null,
   "metadata": {},
   "outputs": [],
   "source": []
  }
 ],
 "metadata": {
  "kernelspec": {
   "display_name": "Python 3 (ipykernel)",
   "language": "python",
   "name": "python3"
  },
  "language_info": {
   "codemirror_mode": {
    "name": "ipython",
    "version": 3
   },
   "file_extension": ".py",
   "mimetype": "text/x-python",
   "name": "python",
   "nbconvert_exporter": "python",
   "pygments_lexer": "ipython3",
   "version": "3.7.13"
  }
 },
 "nbformat": 4,
 "nbformat_minor": 1
}
